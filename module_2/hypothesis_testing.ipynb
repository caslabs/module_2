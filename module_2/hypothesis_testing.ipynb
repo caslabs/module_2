{
 "cells": [
  {
   "cell_type": "markdown",
   "metadata": {},
   "source": [
    "### Example\n",
    "\n",
    "* Suppose we have two samples that represent biki ride durations for two distinct neighborhoods `a` and `b`\n",
    "\n",
    "1. Instead of working with actual data, sample the data from a gaussian the same mean ($\\mu=20$) the same same standard deviation ($\\sigma = 4$)\n",
    "    * We will sample 15 bike rides for each of regions `a` and `b`\n",
    "    "
   ]
  },
  {
   "cell_type": "code",
   "execution_count": 20,
   "metadata": {},
   "outputs": [],
   "source": [
    "# Write your code here\n",
    "#Data Science Libraries Import\n",
    "import pandas as pd\n",
    "import numpy as np\n",
    "import matplotlib.pyplot as plt"
   ]
  },
  {
   "cell_type": "code",
   "execution_count": 21,
   "outputs": [],
   "source": [
    "#Gaussian Distribution Sampling\n",
    "#configs- mean=20, std_dev=4, size=15 for both regions {a,b}\n",
    "region_a = np.random.normal(20, 4, 15)\n",
    "region_b = np.random.normal(20, 4, 15)"
   ],
   "metadata": {
    "collapsed": false,
    "pycharm": {
     "name": "#%%\n"
    }
   }
  },
  {
   "cell_type": "markdown",
   "metadata": {},
   "source": [
    "### Example - cont'd\n",
    "\n",
    "2. Compute and compare the means of datasets `a` `b`\n",
    "  * Based on the observed difference between the means, do you believe there is a statistically significant difference between samples `a` and `b`"
   ]
  },
  {
   "cell_type": "code",
   "execution_count": 22,
   "outputs": [
    {
     "name": "stdout",
     "output_type": "stream",
     "text": [
      "            a          b\n",
      "0   22.560468  20.515746\n",
      "1   19.900390  25.432792\n",
      "2   24.374523  17.425701\n",
      "3   27.093606  20.012278\n",
      "4   12.477890  17.902037\n",
      "5   20.848597  23.428037\n",
      "6   26.365739  20.648772\n",
      "7   18.399449  21.300107\n",
      "8   18.133748  21.650432\n",
      "9   21.484281  19.384092\n",
      "10  13.208488  20.162771\n",
      "11  15.288235  18.962984\n",
      "12  17.342177  16.913338\n",
      "13  19.302364  18.410267\n",
      "14  25.402112  28.603609\n"
     ]
    }
   ],
   "source": [
    "df = pd.DataFrame()\n",
    "\n",
    "df['a'] = pd.Series(region_a)\n",
    "df['b'] = pd.Series(region_b)\n",
    "print(df.head(15))"
   ],
   "metadata": {
    "collapsed": false,
    "pycharm": {
     "name": "#%%\n"
    }
   }
  },
  {
   "cell_type": "code",
   "execution_count": 23,
   "outputs": [
    {
     "name": "stdout",
     "output_type": "stream",
     "text": [
      "region 'a' mean: 20.145471128602008\n",
      "region 'b' mean: 20.71686414424831\n"
     ]
    }
   ],
   "source": [
    "#Computing Means of regions {a,b}\n",
    "print(\"region 'a' mean:\", df['a'].mean())\n",
    "print(\"region 'b' mean:\", df['b'].mean())"
   ],
   "metadata": {
    "collapsed": false,
    "pycharm": {
     "name": "#%%\n"
    }
   }
  },
  {
   "cell_type": "markdown",
   "source": [
    "Q: Based on the observed difference between the means, do you believe there is a statistically significant difference between samples `a` and `b`\n",
    "\n",
    "A: Based on the observed difference, we cannot determine if such samples are statistically significant difference. However, the mean value of regions a,b can be apart of the \"T-Test\" - a method of inferential statistic used to determine if there is a significant difference between the means of two groups. To claim if such samples are statistically significant, then we must compute the difference between the mean values (we computed the following mean values from the above code, but not the difference property), the standard deviation of each group (we did not compute this), and the number of data values of each group (we have this by the above configurations size=15)."
   ],
   "metadata": {
    "collapsed": false,
    "pycharm": {
     "name": "#%% md\n"
    }
   }
  },
  {
   "cell_type": "markdown",
   "metadata": {},
   "source": [
    "### Example - cont'd\n",
    "\n",
    "3. draw the two KDEs reprenting the datasets `a` and `b`\n",
    "  * You should have a figure that appears \"approximately\" as in the figure below\n",
    "    * The X- and Y-axis values have been intentionally omitted\n",
    "    \n",
    "![](https://www.dropbox.com/s/0ab4d92lkcn89jv/a_b_kde_exmaple.png?dl=1)    "
   ]
  },
  {
   "cell_type": "code",
   "execution_count": 24,
   "metadata": {},
   "outputs": [
    {
     "data": {
      "text/plain": "<matplotlib.axes._subplots.AxesSubplot at 0x7facdc08f2e8>"
     },
     "execution_count": 24,
     "metadata": {},
     "output_type": "execute_result"
    },
    {
     "data": {
      "text/plain": "<Figure size 432x288 with 1 Axes>",
      "image/png": "[encoded data removed]"
     },
     "metadata": {
      "needs_background": "light"
     },
     "output_type": "display_data"
    }
   ],
   "source": [
    "# Write your code here\n",
    "ax = df.plot.kde()\n",
    "ax"
   ]
  },
  {
   "cell_type": "markdown",
   "metadata": {},
   "source": [
    "### Example - cont'd\n",
    "\n",
    "4. Visually, does dataset *a* differ significantly from dataset `b`"
   ]
  },
  {
   "cell_type": "markdown",
   "metadata": {
    "pycharm": {
     "name": "#%% md\n"
    }
   },
   "source": [
    "Visually - yes. We can see the difference from dataset a and dataset b based on the following density plot of both sample a and sample b regions. For example, we can deduce the difference by the standard deviation value."
   ]
  },
  {
   "cell_type": "markdown",
   "metadata": {},
   "source": [
    "### Example - cont'd\n",
    "\n",
    "5. Use the resampling method covered in class to test whether or not there is a statistically significant difference between datasets `a` and `b`\n",
    " * Provide a p-value to support your claim.\n"
   ]
  },
  {
   "cell_type": "code",
   "execution_count": 25,
   "metadata": {},
   "outputs": [
    {
     "name": "stdout",
     "output_type": "stream",
     "text": [
      "[22.56046796098427, 19.900389794057322, 24.374523435821907, 27.093605569480378, 12.477889855452958, 20.848596904296286, 26.36573876360449, 18.399449436485448, 18.133747587707106, 21.484281105945186, 13.20848837873612, 15.288234585792289, 17.342177404280992, 19.302363742057672, 25.40211240432775, 20.515746248613667, 25.432792001380413, 17.42570116144451, 20.012277970652985, 17.90203653341874, 23.428036579941065, 20.64877211450839, 21.30010662473856, 21.65043166603907, 19.384091718461967, 20.162770894917326, 18.962984499372947, 16.913337966140304, 18.410266881065713, 28.603609303029042]\n"
     ]
    }
   ],
   "source": [
    "# Write your code here\n",
    "permutationCount = 1000\n",
    "pop  = list(df[\"a\"])  + list(df[\"b\"])\n",
    "print(pop)\n",
    "\n",
    "bs_diff = []\n",
    "\n",
    "#Bootsrapping procedure\n",
    "for i in range(1000):\n",
    "    np.random.shuffle(pop)\n",
    "    psuedo_a = pop[:15]\n",
    "    psuedo_b = pop[15:]\n",
    "    psuedo_o = np.mean(psuedo_a) - np.mean(psuedo_b)\n",
    "\n",
    "    bs_diff.append(psuedo_o)"
   ]
  },
  {
   "cell_type": "code",
   "execution_count": 26,
   "outputs": [
    {
     "name": "stdout",
     "output_type": "stream",
     "text": [
      "0.6906731557556688\n"
     ]
    }
   ],
   "source": [
    "\"\"\"\n",
    "P-Value\n",
    "\"\"\"\n",
    "from scipy import stats\n",
    "print(stats.ttest_ind(df[\"a\"], df[\"b\"]).pvalue)"
   ],
   "metadata": {
    "collapsed": false,
    "pycharm": {
     "name": "#%%\n"
    }
   }
  },
  {
   "cell_type": "markdown",
   "metadata": {},
   "source": [
    "### Example - cont'd\n",
    "\n",
    "6. Plot a histogram of the means obtained during resampling and the observed value. \n",
    "  * You should have a figure that appears \"approximately\" as in the figure below\n",
    "![](https://www.dropbox.com/s/g54bal23o1ktj2j/a_b_hist_example.png?dl=1)  "
   ]
  },
  {
   "cell_type": "code",
   "execution_count": 27,
   "metadata": {
    "pycharm": {
     "name": "#%%\n"
    }
   },
   "outputs": [
    {
     "data": {
      "text/plain": "<Figure size 1152x432 with 1 Axes>",
      "image/png": "[encoded data removed]"
     },
     "metadata": {
      "needs_background": "light"
     },
     "output_type": "display_data"
    }
   ],
   "source": [
    "# Write your code here\n",
    "plt.figure(figsize=(16,6))\n",
    "plt.hist(bs_diff, edgecolor='k', linewidth=1.2, bins=12)\n",
    "plt.show()"
   ]
  }
 ],
 "metadata": {
  "celltoolbar": "Slideshow",
  "colab": {
   "collapsed_sections": [],
   "name": "PP_1_Introduction.ipynb",
   "provenance": [],
   "version": "0.3.2"
  },
  "hide_input": false,
  "kernelspec": {
   "display_name": "Python 3 (ipykernel)",
   "language": "python",
   "name": "python3"
  },
  "language_info": {
   "codemirror_mode": {
    "name": "ipython",
    "version": 3
   },
   "file_extension": ".py",
   "mimetype": "text/x-python",
   "name": "python",
   "nbconvert_exporter": "python",
   "pygments_lexer": "ipython3",
   "version": "3.8.11"
  }
 },
 "nbformat": 4,
 "nbformat_minor": 1
}