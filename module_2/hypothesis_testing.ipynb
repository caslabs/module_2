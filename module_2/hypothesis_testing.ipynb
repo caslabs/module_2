{
 "cells": [
  {
   "cell_type": "markdown",
   "metadata": {},
   "source": [
    "### Example\n",
    "\n",
    "* Suppose we have two samples that represent biki ride durations for two distinct neighborhoods `a` and `b`\n",
    "\n",
    "1. Instead of working with actual data, sample the data from a gaussian the same mean ($\\mu=20$) the same same standard deviation ($\\sigma = 4$)\n",
    "    * We will sample 15 bike rides for each of regions `a` and `b`\n",
    "    "
   ]
  },
  {
   "cell_type": "code",
   "execution_count": 15,
   "metadata": {},
   "outputs": [],
   "source": [
    "# Write your code here\n",
    "#Data Science Libraries Import\n",
    "import pandas as pd\n",
    "import numpy as np"
   ]
  },
  {
   "cell_type": "code",
   "execution_count": 16,
   "outputs": [],
   "source": [
    "#Gaussian Distribution Sampling\n",
    "#configs- mean=20, std_dev=4, size=15 for both regions {a,b}\n",
    "region_a = np.random.normal(20, 4, 15)\n",
    "region_b = np.random.normal(20, 4, 15)"
   ],
   "metadata": {
    "collapsed": false,
    "pycharm": {
     "name": "#%%\n"
    }
   }
  },
  {
   "cell_type": "markdown",
   "metadata": {},
   "source": [
    "### Example - cont'd\n",
    "\n",
    "2. Compute and compare the means of datasets `a` `b`\n",
    "  * Based on the observed difference between the means, do you believe there is a statistically significant difference between samples `a` and `b`"
   ]
  },
  {
   "cell_type": "code",
   "execution_count": 17,
   "outputs": [
    {
     "name": "stdout",
     "output_type": "stream",
     "text": [
      "            a          b\n",
      "0   17.263504  14.429591\n",
      "1   17.436539  16.231381\n",
      "2   27.667214  17.783520\n",
      "3   23.150451  24.431718\n",
      "4   25.789391  21.078158\n",
      "5   18.207147  22.739746\n",
      "6   27.100752  22.554841\n",
      "7   21.148607  10.173232\n",
      "8   21.474621  17.862235\n",
      "9   24.053158  23.610920\n",
      "10  23.276526  20.039814\n",
      "11  17.892905  21.624074\n",
      "12  17.069862  18.070010\n",
      "13  21.548044  25.197687\n",
      "14  17.201827  18.655221\n"
     ]
    }
   ],
   "source": [
    "df = pd.DataFrame()\n",
    "\n",
    "df['a'] = pd.Series(region_a)\n",
    "df['b'] = pd.Series(region_b)\n",
    "print(df.head(15))"
   ],
   "metadata": {
    "collapsed": false,
    "pycharm": {
     "name": "#%%\n"
    }
   }
  },
  {
   "cell_type": "code",
   "execution_count": 18,
   "outputs": [
    {
     "name": "stdout",
     "output_type": "stream",
     "text": [
      "region 'a' mean: 21.352036382343456\n",
      "region 'b' mean: 19.632143094393378\n"
     ]
    }
   ],
   "source": [
    "#Computing Means of regions {a,b}\n",
    "print(\"region 'a' mean:\", df['a'].mean())\n",
    "print(\"region 'b' mean:\", df['b'].mean())"
   ],
   "metadata": {
    "collapsed": false,
    "pycharm": {
     "name": "#%%\n"
    }
   }
  },
  {
   "cell_type": "markdown",
   "source": [
    "Q: Based on the observed difference between the means, do you believe there is a statistically significant difference between samples `a` and `b`\n",
    "\n",
    "A: Based on the observed difference, we cannot determine if such samples are statistically significant difference. However, the mean value of regions a,b can be apart of the \"T-Test\" - a method of inferential statistic used to determine if there is a significant difference between the means of two groups. To claim if such samples are statistically significant, then we must compute the difference between the mean values (we computed the following mean values from the above code, but not the difference property), the standard deviation of each group (we did not compute this), and the number of data values of each group (we have this by the above configurations size=15)."
   ],
   "metadata": {
    "collapsed": false,
    "pycharm": {
     "name": "#%% md\n"
    }
   }
  },
  {
   "cell_type": "markdown",
   "metadata": {},
   "source": [
    "### Example - cont'd\n",
    "\n",
    "3. draw the two KDEs reprenting the datasets `a` and `b`\n",
    "  * You should have a figure that appears \"approximately\" as in the figure below\n",
    "    * The X- and Y-axis values have been intentionally omitted\n",
    "    \n",
    "![](https://www.dropbox.com/s/0ab4d92lkcn89jv/a_b_kde_exmaple.png?dl=1)    "
   ]
  },
  {
   "cell_type": "code",
   "execution_count": 19,
   "metadata": {},
   "outputs": [
    {
     "data": {
      "text/plain": "<matplotlib.axes._subplots.AxesSubplot at 0x7fb32b129860>"
     },
     "execution_count": 19,
     "metadata": {},
     "output_type": "execute_result"
    },
    {
     "data": {
      "text/plain": "<Figure size 432x288 with 1 Axes>",
      "image/png": "[encoded data removed]"
     },
     "metadata": {
      "needs_background": "light"
     },
     "output_type": "display_data"
    }
   ],
   "source": [
    "# Write your code here\n",
    "ax = df.plot.kde()\n",
    "ax"
   ]
  },
  {
   "cell_type": "markdown",
   "metadata": {},
   "source": [
    "### Example - cont'd\n",
    "\n",
    "4. Visually, does dataset *a* differ significantly from dataset `b`"
   ]
  },
  {
   "cell_type": "markdown",
   "metadata": {
    "pycharm": {
     "name": "#%% md\n"
    }
   },
   "source": [
    "Visually - yes. We can see the difference from dataset a and dataset b based on the following density plot of both sample a and sample b regions. For example, we can deduce the difference by the standard deviation value."
   ]
  },
  {
   "cell_type": "markdown",
   "metadata": {},
   "source": [
    "### Example - cont'd\n",
    "\n",
    "5. Use the resampling method covered in class to test whether or not there is a statistically significant difference between datasets `a` and `b`\n",
    " * Provide a p-value to support your claim.\n"
   ]
  },
  {
   "cell_type": "code",
   "execution_count": 20,
   "metadata": {},
   "outputs": [
    {
     "ename": "TypeError",
     "evalue": "'Series' object cannot be interpreted as an integer",
     "output_type": "error",
     "traceback": [
      "\u001B[0;31m---------------------------------------------------------------------------\u001B[0m",
      "\u001B[0;31mTypeError\u001B[0m                                 Traceback (most recent call last)",
      "\u001B[0;32m<ipython-input-20-bad7787fe13f>\u001B[0m in \u001B[0;36m<module>\u001B[0;34m\u001B[0m\n\u001B[1;32m      1\u001B[0m \u001B[0;31m# Write your code here\u001B[0m\u001B[0;34m\u001B[0m\u001B[0;34m\u001B[0m\u001B[0;34m\u001B[0m\u001B[0m\n\u001B[1;32m      2\u001B[0m \u001B[0mpermutationCount\u001B[0m \u001B[0;34m=\u001B[0m \u001B[0;36m1000\u001B[0m\u001B[0;34m\u001B[0m\u001B[0;34m\u001B[0m\u001B[0m\n\u001B[0;32m----> 3\u001B[0;31m \u001B[0msampleMerge\u001B[0m \u001B[0;34m=\u001B[0m \u001B[0mnp\u001B[0m\u001B[0;34m.\u001B[0m\u001B[0mconcatenate\u001B[0m\u001B[0;34m(\u001B[0m\u001B[0mdf\u001B[0m\u001B[0;34m[\u001B[0m\u001B[0;34m\"a\"\u001B[0m\u001B[0;34m]\u001B[0m\u001B[0;34m,\u001B[0m \u001B[0mdf\u001B[0m\u001B[0;34m[\u001B[0m\u001B[0;34m\"b\"\u001B[0m\u001B[0;34m]\u001B[0m\u001B[0;34m)\u001B[0m\u001B[0;34m\u001B[0m\u001B[0;34m\u001B[0m\u001B[0m\n\u001B[0m\u001B[1;32m      4\u001B[0m \u001B[0mmeans\u001B[0m \u001B[0;34m=\u001B[0m \u001B[0;34m[\u001B[0m\u001B[0;34m]\u001B[0m\u001B[0;34m\u001B[0m\u001B[0;34m\u001B[0m\u001B[0m\n\u001B[1;32m      5\u001B[0m \u001B[0;34m\u001B[0m\u001B[0m\n",
      "\u001B[0;31mTypeError\u001B[0m: 'Series' object cannot be interpreted as an integer"
     ]
    }
   ],
   "source": [
    "# Write your code here\n",
    "permutationCount = 1000\n",
    "sampleMerge = np.concatenate(df[\"a\"], df[\"b\"])\n",
    "means = []\n",
    "\n",
    "#resampling method\n",
    "for iter in permutationCount:\n",
    "    np.random.shuffle(sampleMerge)\n",
    "    newSplit = np.array_split(sampleMerge, 2)\n",
    "    means.append(np.mean(newSplit[0].tolist()) - np.mean(newSplit[1].tolist()))\n",
    "\n",
    "print(means)\n",
    "\n",
    "\n",
    "\n"
   ]
  },
  {
   "cell_type": "markdown",
   "metadata": {},
   "source": [
    "### Example - cont'd\n",
    "\n",
    "6. Plot a histogram of the means obtained during resampling and the observed value. \n",
    "  * You should have a figure that appears \"approximately\" as in the figure below\n",
    "![](https://www.dropbox.com/s/g54bal23o1ktj2j/a_b_hist_example.png?dl=1)  "
   ]
  },
  {
   "cell_type": "code",
   "execution_count": null,
   "metadata": {},
   "outputs": [],
   "source": [
    "# Write your code here "
   ]
  }
 ],
 "metadata": {
  "celltoolbar": "Slideshow",
  "colab": {
   "collapsed_sections": [],
   "name": "PP_1_Introduction.ipynb",
   "provenance": [],
   "version": "0.3.2"
  },
  "hide_input": false,
  "kernelspec": {
   "display_name": "Python 3 (ipykernel)",
   "language": "python",
   "name": "python3"
  },
  "language_info": {
   "codemirror_mode": {
    "name": "ipython",
    "version": 3
   },
   "file_extension": ".py",
   "mimetype": "text/x-python",
   "name": "python",
   "nbconvert_exporter": "python",
   "pygments_lexer": "ipython3",
   "version": "3.8.11"
  }
 },
 "nbformat": 4,
 "nbformat_minor": 1
}