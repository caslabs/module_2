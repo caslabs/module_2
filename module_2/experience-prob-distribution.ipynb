{
 "cells": [
  {
   "cell_type": "markdown",
   "id": "713c60c7",
   "metadata": {},
   "source": [
    "##### Q.1 \n",
    "\n",
    "Consider the loaded die with the following probabilities:\n",
    "```\n",
    "    p(1) = 0.3/6\n",
    "    p(2) = 0.7/6\n",
    "    p(3) =   2/6\n",
    "    p(4) = 0.5/6\n",
    "    p(5) = 0.2/6\n",
    "    p(6) = 2.3/6\n",
    "```\n"
   ]
  },
  {
   "cell_type": "markdown",
   "id": "dbe12bdf",
   "metadata": {},
   "source": [
    "##### Q.2 \n",
    "* Plot the probability distribution above\n",
    "  * Select the most appropriate visualization to do so."
   ]
  },
  {
   "cell_type": "code",
   "execution_count": 51,
   "id": "f519fe80",
   "metadata": {},
   "outputs": [
    {
     "data": {
      "text/plain": "<matplotlib.axes._subplots.AxesSubplot at 0x7fb496cabe80>"
     },
     "execution_count": 51,
     "metadata": {},
     "output_type": "execute_result"
    },
    {
     "data": {
      "text/plain": "<Figure size 432x288 with 1 Axes>",
      "image/png": "[encoded data removed]"
     },
     "metadata": {
      "needs_background": "light"
     },
     "output_type": "display_data"
    }
   ],
   "source": [
    "#Importing Data Science Libraries\n",
    "import pandas as pd\n",
    "import numpy as np\n",
    "\n",
    "#Q.1 dice probabilities\n",
    "dice_probs = np.array([0.3/6, 0.7/6, 2/6, 0.5/6, 0.2/6, 2.3/6])\n",
    "\n",
    "#dice distributions plot\n",
    "db = pd.Series(dice_probs)\n",
    "db.index += 1\n",
    "db.plot.bar(x='P(X)', y='Probability Value', title=\"Skewed Dice Roll Probabilities\", rot=0)"
   ]
  },
  {
   "cell_type": "markdown",
   "id": "2bebd2a7",
   "metadata": {},
   "source": [
    "##### Q.3 \n",
    "* Based only on the plot above, can you predict the mean value of a random variable consisting of values obtaining from rolling a die  that follows the probability distribution given above? Explain your reasoning."
   ]
  },
  {
   "cell_type": "code",
   "execution_count": 52,
   "id": "9144c2f9",
   "metadata": {},
   "outputs": [
    {
     "name": "stdout",
     "output_type": "stream",
     "text": [
      "4.083333333333333\n"
     ]
    }
   ],
   "source": [
    "# Write you answer here\n",
    "mean_value_diceProbs = np.dot(db.index.values, db.values)\n",
    "print(mean_value_diceProbs)"
   ]
  },
  {
   "cell_type": "markdown",
   "source": [
    "We can inquire the precise mean value of the dice probabilities computationally by the following theorem:\n",
    "E(X) = ΣxP(x) : expected value\n",
    "Of course, the pythonic version is described above. It outputs the float value - '4.083333333333333'\n",
    "\n",
    "Though, if we were to base our reason 'only on the plot above', then we can assume the value lies between the intervals 1:6.  However, a prediction based by the bar plot is not a feasible way of getting the mean value.\n",
    "\n"
   ],
   "metadata": {
    "collapsed": false,
    "pycharm": {
     "name": "#%% md\n"
    }
   }
  },
  {
   "cell_type": "markdown",
   "id": "007f6984",
   "metadata": {},
   "source": [
    "##### Q.4\n",
    "* Sample 5000 die rolls such that the probabilities of obtaining the values 1 through 6 are distributed according probabilities above. Use these samples to estimate the mean of the random variable. \n"
   ]
  },
  {
   "cell_type": "code",
   "execution_count": 53,
   "id": "5bc38d79",
   "metadata": {},
   "outputs": [
    {
     "name": "stdout",
     "output_type": "stream",
     "text": [
      "mean value: 4.117\n"
     ]
    }
   ],
   "source": [
    "# Write you code here\n",
    "\n",
    "def sample_calc(iteration_count):\n",
    "    samples = np.random.choice(db.index.values, iteration_count, p=db.values)\n",
    "    return samples.mean()\n",
    "print(\"mean value:\", sample_calc(iteration_count=5000))"
   ]
  },
  {
   "cell_type": "markdown",
   "id": "78152616",
   "metadata": {},
   "source": [
    "##### Q.5 \n",
    "\n",
    "* Does the mean match your prediction in Q.3 above? Explain your answer.\n"
   ]
  },
  {
   "cell_type": "code",
   "execution_count": 54,
   "id": "6d11df2d",
   "metadata": {
    "pycharm": {
     "name": "#%%\n"
    }
   },
   "outputs": [
    {
     "name": "stdout",
     "output_type": "stream",
     "text": [
      "mean value: 4.0830796\n"
     ]
    }
   ],
   "source": [
    "# Write you answer here\n",
    "\n",
    "#increasing the sample count makes the sample value closer to the true value\n",
    "print(\"mean value:\", sample_calc(iteration_count=10000000))"
   ]
  },
  {
   "cell_type": "markdown",
   "source": [
    "Q.3 value: '4.083333333333333'\n",
    "Q.4 value: '4.0642'\n",
    "\n",
    "The values are not precisely matching, however that is expected. Q.4 value is a sample distribution value of the true value (Q.3). That is, Q.4 value is not far-fetch from Q.3 value, and is closely related. To re-iterate, if we increase the sample iteration count (let say 10,000,000), then the sample value will be more closer to the true value. The following code above describes that phenomena"
   ],
   "metadata": {
    "collapsed": false,
    "pycharm": {
     "name": "#%% md\n"
    }
   }
  }
 ],
 "metadata": {
  "kernelspec": {
   "display_name": "Python 3 (ipykernel)",
   "language": "python",
   "name": "python3"
  },
  "language_info": {
   "codemirror_mode": {
    "name": "ipython",
    "version": 3
   },
   "file_extension": ".py",
   "mimetype": "text/x-python",
   "name": "python",
   "nbconvert_exporter": "python",
   "pygments_lexer": "ipython3",
   "version": "3.8.11"
  }
 },
 "nbformat": 4,
 "nbformat_minor": 5
}